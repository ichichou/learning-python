{
 "cells": [
  {
   "cell_type": "code",
   "execution_count": 1,
   "metadata": {},
   "outputs": [],
   "source": [
    "table_data = [['apples', 'oranges', 'cherries', 'bananas'],\n",
    "              ['Alice', 'Bob', 'Carol', 'David'],\n",
    "              ['dogs', 'cats', 'moose', 'goose']]"
   ]
  },
  {
   "cell_type": "code",
   "execution_count": 46,
   "metadata": {},
   "outputs": [],
   "source": [
    "def print_table(table_data):\n",
    "    cols = len(table_data)\n",
    "    col_widths = [0] * cols\n",
    "    for i in range(cols):\n",
    "        col_widths[i] = len(max(table_data[i], key=len))\n",
    "    rows = len(table_data[0])\n",
    "    for i in range(rows):\n",
    "        for j in range(cols):\n",
    "            print(table_data[j][i].rjust(col_widths[j]) + ' ', end='')\n",
    "        print('')"
   ]
  },
  {
   "cell_type": "code",
   "execution_count": 47,
   "metadata": {},
   "outputs": [
    {
     "name": "stdout",
     "output_type": "stream",
     "text": [
      "  apples Alice  dogs \n",
      " oranges   Bob  cats \n",
      "cherries Carol moose \n",
      " bananas David goose \n"
     ]
    }
   ],
   "source": [
    "print_table(table_data)"
   ]
  },
  {
   "cell_type": "code",
   "execution_count": null,
   "metadata": {},
   "outputs": [],
   "source": []
  }
 ],
 "metadata": {
  "kernelspec": {
   "display_name": "Python 3",
   "language": "python",
   "name": "python3"
  },
  "language_info": {
   "codemirror_mode": {
    "name": "ipython",
    "version": 3
   },
   "file_extension": ".py",
   "mimetype": "text/x-python",
   "name": "python",
   "nbconvert_exporter": "python",
   "pygments_lexer": "ipython3",
   "version": "3.7.6"
  }
 },
 "nbformat": 4,
 "nbformat_minor": 4
}
