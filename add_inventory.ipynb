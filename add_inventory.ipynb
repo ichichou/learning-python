{
 "cells": [
  {
   "cell_type": "code",
   "execution_count": 4,
   "metadata": {},
   "outputs": [],
   "source": [
    "def display_inventory(inventory):\n",
    "    print('持ち物リスト:')\n",
    "    item_total = 0\n",
    "    for k, v in inventory.items():\n",
    "        print(str(v) + ' ' + k)\n",
    "        item_total += v\n",
    "    print('アイテム総数: ' + str(item_total))\n",
    "\n",
    "def add_to_inventory(inventory, added_items):\n",
    "    for i in added_items:\n",
    "        inventory.setdefault(i, 0)\n",
    "        inventory[i] += 1\n",
    "    return inventory"
   ]
  },
  {
   "cell_type": "code",
   "execution_count": 5,
   "metadata": {},
   "outputs": [
    {
     "name": "stdout",
     "output_type": "stream",
     "text": [
      "持ち物リスト:\n",
      "45 金貨\n",
      "1 ロープ\n",
      "1 手裏剣\n",
      "1 ルビー\n",
      "アイテム総数: 48\n"
     ]
    }
   ],
   "source": [
    "inv = {'金貨': 42, 'ロープ': 1}\n",
    "dragon_loot = ['金貨', '手裏剣', '金貨', '金貨', 'ルビー']\n",
    "\n",
    "inv = add_to_inventory(inv, dragon_loot)\n",
    "display_inventory(inv)"
   ]
  },
  {
   "cell_type": "code",
   "execution_count": null,
   "metadata": {},
   "outputs": [],
   "source": []
  }
 ],
 "metadata": {
  "kernelspec": {
   "display_name": "Python 3",
   "language": "python",
   "name": "python3"
  },
  "language_info": {
   "codemirror_mode": {
    "name": "ipython",
    "version": 3
   },
   "file_extension": ".py",
   "mimetype": "text/x-python",
   "name": "python",
   "nbconvert_exporter": "python",
   "pygments_lexer": "ipython3",
   "version": "3.7.6"
  }
 },
 "nbformat": 4,
 "nbformat_minor": 4
}
